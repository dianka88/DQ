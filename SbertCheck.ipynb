{
 "cells": [
  {
   "cell_type": "code",
   "execution_count": 4,
   "metadata": {},
   "outputs": [
    {
     "name": "stdout",
     "output_type": "stream",
     "text": [
      "Python 3.10.12\n"
     ]
    }
   ],
   "source": [
    "!python3 --version\n"
   ]
  },
  {
   "cell_type": "code",
   "execution_count": 1,
   "metadata": {},
   "outputs": [
    {
     "name": "stdout",
     "output_type": "stream",
     "text": [
      "3.10.12 (main, Feb  4 2025, 14:57:36) [GCC 11.4.0]\n"
     ]
    }
   ],
   "source": [
    "import sys\n",
    "print(sys.version)\n"
   ]
  },
  {
   "cell_type": "code",
   "execution_count": 2,
   "metadata": {},
   "outputs": [
    {
     "data": {
      "text/html": [
       "<div>\n",
       "<style scoped>\n",
       "    .dataframe tbody tr th:only-of-type {\n",
       "        vertical-align: middle;\n",
       "    }\n",
       "\n",
       "    .dataframe tbody tr th {\n",
       "        vertical-align: top;\n",
       "    }\n",
       "\n",
       "    .dataframe thead th {\n",
       "        text-align: right;\n",
       "    }\n",
       "</style>\n",
       "<table border=\"1\" class=\"dataframe\">\n",
       "  <thead>\n",
       "    <tr style=\"text-align: right;\">\n",
       "      <th></th>\n",
       "      <th>Unnamed: 0</th>\n",
       "      <th>id</th>\n",
       "      <th>date</th>\n",
       "      <th>news</th>\n",
       "      <th>label</th>\n",
       "      <th>pct_change</th>\n",
       "      <th>text_length</th>\n",
       "      <th>textlemma</th>\n",
       "      <th>textlengthforlemma</th>\n",
       "      <th>word_count</th>\n",
       "      <th>topic</th>\n",
       "      <th>topic_name</th>\n",
       "      <th>Entities</th>\n",
       "      <th>IsEntity</th>\n",
       "    </tr>\n",
       "  </thead>\n",
       "  <tbody>\n",
       "    <tr>\n",
       "      <th>0</th>\n",
       "      <td>104</td>\n",
       "      <td>nifty_2</td>\n",
       "      <td>2010-01-11</td>\n",
       "      <td>Research and Markets: Epilepsy - Drug Pipeline...</td>\n",
       "      <td>Fall</td>\n",
       "      <td>-0.0093</td>\n",
       "      <td>91</td>\n",
       "      <td>research and market epilepsy drug pipeline ana...</td>\n",
       "      <td>78</td>\n",
       "      <td>11</td>\n",
       "      <td>0</td>\n",
       "      <td>pharmacy</td>\n",
       "      <td>['research', 'and', 'market', 'e', '##pile', '...</td>\n",
       "      <td>1</td>\n",
       "    </tr>\n",
       "    <tr>\n",
       "      <th>1</th>\n",
       "      <td>127</td>\n",
       "      <td>nifty_2</td>\n",
       "      <td>2010-01-11</td>\n",
       "      <td>Weird Science?  Big Pharma's Top Three M&amp;A; D...</td>\n",
       "      <td>Fall</td>\n",
       "      <td>-0.0093</td>\n",
       "      <td>108</td>\n",
       "      <td>weird science big pharma top three deal nears ...</td>\n",
       "      <td>80</td>\n",
       "      <td>13</td>\n",
       "      <td>0</td>\n",
       "      <td>pharmacy</td>\n",
       "      <td>['weird', 'science', 'big', 'p', '##har', '##m...</td>\n",
       "      <td>1</td>\n",
       "    </tr>\n",
       "    <tr>\n",
       "      <th>2</th>\n",
       "      <td>186</td>\n",
       "      <td>nifty_2</td>\n",
       "      <td>2010-01-11</td>\n",
       "      <td>Research and Markets: Booming Hospital Service...</td>\n",
       "      <td>Fall</td>\n",
       "      <td>-0.0093</td>\n",
       "      <td>63</td>\n",
       "      <td>research and market booming hospital service m...</td>\n",
       "      <td>57</td>\n",
       "      <td>8</td>\n",
       "      <td>0</td>\n",
       "      <td>pharmacy</td>\n",
       "      <td>['research', 'and', 'market', 'boom', '##ing',...</td>\n",
       "      <td>1</td>\n",
       "    </tr>\n",
       "    <tr>\n",
       "      <th>3</th>\n",
       "      <td>222</td>\n",
       "      <td>nifty_2</td>\n",
       "      <td>2010-01-11</td>\n",
       "      <td>BioCentury Publishes Investor Picks for New B...</td>\n",
       "      <td>Fall</td>\n",
       "      <td>-0.0093</td>\n",
       "      <td>72</td>\n",
       "      <td>biocentury publishes investor pick for new bio...</td>\n",
       "      <td>61</td>\n",
       "      <td>8</td>\n",
       "      <td>0</td>\n",
       "      <td>pharmacy</td>\n",
       "      <td>['bio', '##cent', '##ury', 'publishes', 'inves...</td>\n",
       "      <td>1</td>\n",
       "    </tr>\n",
       "    <tr>\n",
       "      <th>4</th>\n",
       "      <td>396</td>\n",
       "      <td>nifty_2</td>\n",
       "      <td>2010-01-11</td>\n",
       "      <td>Research and Markets: Vertex Pharmaceuticals -...</td>\n",
       "      <td>Fall</td>\n",
       "      <td>-0.0093</td>\n",
       "      <td>70</td>\n",
       "      <td>research and market vertex pharmaceutical swot...</td>\n",
       "      <td>65</td>\n",
       "      <td>8</td>\n",
       "      <td>0</td>\n",
       "      <td>pharmacy</td>\n",
       "      <td>['research', 'and', 'market', 'vertex', 'pharm...</td>\n",
       "      <td>1</td>\n",
       "    </tr>\n",
       "    <tr>\n",
       "      <th>...</th>\n",
       "      <td>...</td>\n",
       "      <td>...</td>\n",
       "      <td>...</td>\n",
       "      <td>...</td>\n",
       "      <td>...</td>\n",
       "      <td>...</td>\n",
       "      <td>...</td>\n",
       "      <td>...</td>\n",
       "      <td>...</td>\n",
       "      <td>...</td>\n",
       "      <td>...</td>\n",
       "      <td>...</td>\n",
       "      <td>...</td>\n",
       "      <td>...</td>\n",
       "    </tr>\n",
       "    <tr>\n",
       "      <th>695</th>\n",
       "      <td>63122</td>\n",
       "      <td>nifty_207</td>\n",
       "      <td>2011-01-20</td>\n",
       "      <td>Money meets innovation at Biotech Showcase 2011</td>\n",
       "      <td>Neutral</td>\n",
       "      <td>0.0023</td>\n",
       "      <td>47</td>\n",
       "      <td>money meet innovation biotech showcase</td>\n",
       "      <td>38</td>\n",
       "      <td>5</td>\n",
       "      <td>0</td>\n",
       "      <td>pharmacy</td>\n",
       "      <td>['money', 'meet', 'innovation', 'bio', '##tech...</td>\n",
       "      <td>1</td>\n",
       "    </tr>\n",
       "    <tr>\n",
       "      <th>696</th>\n",
       "      <td>63168</td>\n",
       "      <td>nifty_207</td>\n",
       "      <td>2011-01-20</td>\n",
       "      <td>Radient Pharmaceuticals Receives Updated Euro...</td>\n",
       "      <td>Neutral</td>\n",
       "      <td>0.0023</td>\n",
       "      <td>119</td>\n",
       "      <td>radient pharmaceutical receives updated europe...</td>\n",
       "      <td>109</td>\n",
       "      <td>15</td>\n",
       "      <td>0</td>\n",
       "      <td>pharmacy</td>\n",
       "      <td>['r', '##adi', '##ent', 'pharmaceutical', 'rec...</td>\n",
       "      <td>1</td>\n",
       "    </tr>\n",
       "    <tr>\n",
       "      <th>697</th>\n",
       "      <td>63221</td>\n",
       "      <td>nifty_207</td>\n",
       "      <td>2011-01-20</td>\n",
       "      <td>Griffin Securities, Inc. Announces Investment ...</td>\n",
       "      <td>Neutral</td>\n",
       "      <td>0.0023</td>\n",
       "      <td>80</td>\n",
       "      <td>griffin security inc announces investment opin...</td>\n",
       "      <td>71</td>\n",
       "      <td>9</td>\n",
       "      <td>0</td>\n",
       "      <td>pharmacy</td>\n",
       "      <td>['g', '##riff', '##in', 'security', 'in', '##c...</td>\n",
       "      <td>1</td>\n",
       "    </tr>\n",
       "    <tr>\n",
       "      <th>698</th>\n",
       "      <td>63315</td>\n",
       "      <td>nifty_207</td>\n",
       "      <td>2011-01-20</td>\n",
       "      <td>Research and Markets: Bronchitis Therapeutics ...</td>\n",
       "      <td>Neutral</td>\n",
       "      <td>0.0023</td>\n",
       "      <td>96</td>\n",
       "      <td>research and market bronchitis therapeutic pip...</td>\n",
       "      <td>82</td>\n",
       "      <td>10</td>\n",
       "      <td>0</td>\n",
       "      <td>pharmacy</td>\n",
       "      <td>['research', 'and', 'market', 'br', '##on', '#...</td>\n",
       "      <td>1</td>\n",
       "    </tr>\n",
       "    <tr>\n",
       "      <th>699</th>\n",
       "      <td>63388</td>\n",
       "      <td>nifty_207</td>\n",
       "      <td>2011-01-20</td>\n",
       "      <td>Research and Markets: Depression - Pipeline Re...</td>\n",
       "      <td>Neutral</td>\n",
       "      <td>0.0023</td>\n",
       "      <td>59</td>\n",
       "      <td>research and market depression pipeline review</td>\n",
       "      <td>46</td>\n",
       "      <td>6</td>\n",
       "      <td>0</td>\n",
       "      <td>pharmacy</td>\n",
       "      <td>['research', 'and', 'market', 'depression', 'p...</td>\n",
       "      <td>1</td>\n",
       "    </tr>\n",
       "  </tbody>\n",
       "</table>\n",
       "<p>700 rows × 14 columns</p>\n",
       "</div>"
      ],
      "text/plain": [
       "     Unnamed: 0         id        date  \\\n",
       "0           104    nifty_2  2010-01-11   \n",
       "1           127    nifty_2  2010-01-11   \n",
       "2           186    nifty_2  2010-01-11   \n",
       "3           222    nifty_2  2010-01-11   \n",
       "4           396    nifty_2  2010-01-11   \n",
       "..          ...        ...         ...   \n",
       "695       63122  nifty_207  2011-01-20   \n",
       "696       63168  nifty_207  2011-01-20   \n",
       "697       63221  nifty_207  2011-01-20   \n",
       "698       63315  nifty_207  2011-01-20   \n",
       "699       63388  nifty_207  2011-01-20   \n",
       "\n",
       "                                                  news    label  pct_change  \\\n",
       "0    Research and Markets: Epilepsy - Drug Pipeline...     Fall     -0.0093   \n",
       "1     Weird Science?  Big Pharma's Top Three M&A; D...     Fall     -0.0093   \n",
       "2    Research and Markets: Booming Hospital Service...     Fall     -0.0093   \n",
       "3     BioCentury Publishes Investor Picks for New B...     Fall     -0.0093   \n",
       "4    Research and Markets: Vertex Pharmaceuticals -...     Fall     -0.0093   \n",
       "..                                                 ...      ...         ...   \n",
       "695    Money meets innovation at Biotech Showcase 2011  Neutral      0.0023   \n",
       "696   Radient Pharmaceuticals Receives Updated Euro...  Neutral      0.0023   \n",
       "697  Griffin Securities, Inc. Announces Investment ...  Neutral      0.0023   \n",
       "698  Research and Markets: Bronchitis Therapeutics ...  Neutral      0.0023   \n",
       "699  Research and Markets: Depression - Pipeline Re...  Neutral      0.0023   \n",
       "\n",
       "     text_length                                          textlemma  \\\n",
       "0             91  research and market epilepsy drug pipeline ana...   \n",
       "1            108  weird science big pharma top three deal nears ...   \n",
       "2             63  research and market booming hospital service m...   \n",
       "3             72  biocentury publishes investor pick for new bio...   \n",
       "4             70  research and market vertex pharmaceutical swot...   \n",
       "..           ...                                                ...   \n",
       "695           47             money meet innovation biotech showcase   \n",
       "696          119  radient pharmaceutical receives updated europe...   \n",
       "697           80  griffin security inc announces investment opin...   \n",
       "698           96  research and market bronchitis therapeutic pip...   \n",
       "699           59     research and market depression pipeline review   \n",
       "\n",
       "     textlengthforlemma  word_count  topic topic_name  \\\n",
       "0                    78          11      0   pharmacy   \n",
       "1                    80          13      0   pharmacy   \n",
       "2                    57           8      0   pharmacy   \n",
       "3                    61           8      0   pharmacy   \n",
       "4                    65           8      0   pharmacy   \n",
       "..                  ...         ...    ...        ...   \n",
       "695                  38           5      0   pharmacy   \n",
       "696                 109          15      0   pharmacy   \n",
       "697                  71           9      0   pharmacy   \n",
       "698                  82          10      0   pharmacy   \n",
       "699                  46           6      0   pharmacy   \n",
       "\n",
       "                                              Entities  IsEntity  \n",
       "0    ['research', 'and', 'market', 'e', '##pile', '...         1  \n",
       "1    ['weird', 'science', 'big', 'p', '##har', '##m...         1  \n",
       "2    ['research', 'and', 'market', 'boom', '##ing',...         1  \n",
       "3    ['bio', '##cent', '##ury', 'publishes', 'inves...         1  \n",
       "4    ['research', 'and', 'market', 'vertex', 'pharm...         1  \n",
       "..                                                 ...       ...  \n",
       "695  ['money', 'meet', 'innovation', 'bio', '##tech...         1  \n",
       "696  ['r', '##adi', '##ent', 'pharmaceutical', 'rec...         1  \n",
       "697  ['g', '##riff', '##in', 'security', 'in', '##c...         1  \n",
       "698  ['research', 'and', 'market', 'br', '##on', '#...         1  \n",
       "699  ['research', 'and', 'market', 'depression', 'p...         1  \n",
       "\n",
       "[700 rows x 14 columns]"
      ]
     },
     "execution_count": 2,
     "metadata": {},
     "output_type": "execute_result"
    }
   ],
   "source": [
    "import pandas as pd\n",
    "\n",
    "subset = pd.read_csv(\"/home/pedige/.local/bin/DQ/DQ/NIFTY/DQ-1/Topic0_train_data.csv\")\n",
    "subset = subset[:700]\n",
    "subset['date'] = pd.to_datetime(subset['date']).dt.date\n",
    "subset"
   ]
  },
  {
   "cell_type": "code",
   "execution_count": 3,
   "metadata": {},
   "outputs": [
    {
     "name": "stderr",
     "output_type": "stream",
     "text": [
      "2025-04-01 18:06:45.504895: I tensorflow/core/util/port.cc:153] oneDNN custom operations are on. You may see slightly different numerical results due to floating-point round-off errors from different computation orders. To turn them off, set the environment variable `TF_ENABLE_ONEDNN_OPTS=0`.\n",
      "2025-04-01 18:06:45.518396: E external/local_xla/xla/stream_executor/cuda/cuda_fft.cc:467] Unable to register cuFFT factory: Attempting to register factory for plugin cuFFT when one has already been registered\n",
      "WARNING: All log messages before absl::InitializeLog() is called are written to STDERR\n",
      "E0000 00:00:1743530805.535012  205883 cuda_dnn.cc:8579] Unable to register cuDNN factory: Attempting to register factory for plugin cuDNN when one has already been registered\n",
      "E0000 00:00:1743530805.540234  205883 cuda_blas.cc:1407] Unable to register cuBLAS factory: Attempting to register factory for plugin cuBLAS when one has already been registered\n",
      "W0000 00:00:1743530805.552637  205883 computation_placer.cc:177] computation placer already registered. Please check linkage and avoid linking the same target more than once.\n",
      "W0000 00:00:1743530805.552650  205883 computation_placer.cc:177] computation placer already registered. Please check linkage and avoid linking the same target more than once.\n",
      "W0000 00:00:1743530805.552651  205883 computation_placer.cc:177] computation placer already registered. Please check linkage and avoid linking the same target more than once.\n",
      "W0000 00:00:1743530805.552652  205883 computation_placer.cc:177] computation placer already registered. Please check linkage and avoid linking the same target more than once.\n",
      "2025-04-01 18:06:45.557058: I tensorflow/core/platform/cpu_feature_guard.cc:210] This TensorFlow binary is optimized to use available CPU instructions in performance-critical operations.\n",
      "To enable the following instructions: AVX2 AVX512F AVX512_VNNI FMA, in other operations, rebuild TensorFlow with the appropriate compiler flags.\n"
     ]
    },
    {
     "name": "stdout",
     "output_type": "stream",
     "text": [
      "                                                 Entity1  \\\n",
      "201    ['research', 'and', 'market', 'e', '##pile', '...   \n",
      "204    ['research', 'and', 'market', 'e', '##pile', '...   \n",
      "7647   ['f', '##da', 'un', '##ve', '##ils', 'first', ...   \n",
      "10382  ['ah', '##f', 'blast', 'me', '##rc', '##k', 'a...   \n",
      "16489  ['bio', '##gen', 'id', '##ec', 'provide', 'bus...   \n",
      "\n",
      "                                                 Entity2  \\\n",
      "201    ['research', 'and', 'market', 'ne', '##ut', '#...   \n",
      "204    ['research', 'and', 'market', 'pan', '##cre', ...   \n",
      "7647   ['f', '##da', 'un', '##ve', '##ils', 'first', ...   \n",
      "10382  ['ah', '##f', 'blast', 'me', '##rc', '##k', 'a...   \n",
      "16489  ['bio', '##gen', 'id', '##ec', 'provides', 'bu...   \n",
      "\n",
      "                                          Article_1_News  \\\n",
      "201    research and market epilepsy drug pipeline ana...   \n",
      "204    research and market epilepsy drug pipeline ana...   \n",
      "7647     fda unveils first phase transparency initiative   \n",
      "10382  ahf blast merck aid drug pricing during invest...   \n",
      "16489  biogen idec provide business update investor m...   \n",
      "\n",
      "                                          Article_2_News  Date_Difference  \\\n",
      "201    research and market neutropenia drug pipeline ...              141   \n",
      "204    research and market pancreatic cancer drug pip...              141   \n",
      "7647     fda unveils first phase transparency initiative                1   \n",
      "10382  ahf blast merck aid drug pricing during invest...                1   \n",
      "16489  biogen idec provides business update investor ...              364   \n",
      "\n",
      "       SBERT_Similarity  \n",
      "201            0.996759  \n",
      "204            0.993407  \n",
      "7647           1.000000  \n",
      "10382          1.000000  \n",
      "16489          0.999273  \n"
     ]
    }
   ],
   "source": [
    "import pandas as pd\n",
    "import torch\n",
    "from itertools import combinations\n",
    "from sentence_transformers import SentenceTransformer, util\n",
    "\n",
    "model = SentenceTransformer('all-MiniLM-L6-v2')\n",
    "\n",
    "filtered_entities = subset[subset['IsEntity'] == 1][['Entities', 'date', 'textlemma']] #Here the filtration for 1s from the NER)\n",
    "\n",
    "def calculate_sbert_similarity(entities1, entities2):\n",
    "    if not entities1 or not entities2:\n",
    "        return 0  # Return 0 similarity if either entity list is empty\n",
    "\n",
    "    text1 = \" \".join(entities1)\n",
    "    text2 = \" \".join(entities2)\n",
    "\n",
    "    embedding1 = model.encode(text1, convert_to_tensor=True)\n",
    "    embedding2 = model.encode(text2, convert_to_tensor=True)\n",
    "\n",
    "    similarity=util.pytorch_cos_sim(embedding1, embedding2).item()\n",
    "    return similarity\n",
    "\n",
    "# Compare entity similarities between articles\n",
    "similarities = []\n",
    "pairs = list(combinations(filtered_entities.index, 2))\n",
    "\n",
    "for i, j in pairs:\n",
    "    entities1 = filtered_entities.loc[i, \"Entities\"]\n",
    "    entities2 = filtered_entities.loc[j, \"Entities\"]\n",
    "\n",
    "    if len(entities1) > 1 and len(entities2) > 1:\n",
    "        sim = calculate_sbert_similarity(entities1, entities2)\n",
    "        date_difference = abs((filtered_entities.loc[i, \"date\"] - filtered_entities.loc[j, \"date\"]).days)\n",
    "\n",
    "        similarities.append({\n",
    "            \"Entity1\": entities1,\n",
    "            \"Entity2\": entities2,\n",
    "            \"Article_1_News\": filtered_entities.loc[i, \"textlemma\"],\n",
    "            \"Article_2_News\": filtered_entities.loc[j, \"textlemma\"],\n",
    "            \"Date_Difference\": date_difference,\n",
    "            \"SBERT_Similarity\": sim})\n",
    "\n",
    "similarity_df = pd.DataFrame(similarities)\n",
    "high_similarity = similarity_df.query('SBERT_Similarity > 0.99')\n",
    "print(high_similarity.head())"
   ]
  },
  {
   "cell_type": "code",
   "execution_count": 4,
   "metadata": {},
   "outputs": [],
   "source": [
    "# Save the DataFrame to a pickle file\n",
    "similarity_df.to_pickle('similarity_results.pkl')"
   ]
  },
  {
   "cell_type": "code",
   "execution_count": 5,
   "metadata": {},
   "outputs": [
    {
     "name": "stdout",
     "output_type": "stream",
     "text": [
      "                                       Article_1_News  \\\n",
      "7647  fda unveils first phase transparency initiative   \n",
      "\n",
      "                                       Article_2_News  \n",
      "7647  fda unveils first phase transparency initiative  \n"
     ]
    }
   ],
   "source": [
    "print(high_similarity.loc[high_similarity.index == 7647, [\"Article_1_News\", \"Article_2_News\"]])"
   ]
  },
  {
   "cell_type": "code",
   "execution_count": 6,
   "metadata": {},
   "outputs": [
    {
     "data": {
      "application/vnd.jupyter.widget-view+json": {
       "model_id": "83ec89d387fa45f3a8d4ff528a2fc02d",
       "version_major": 2,
       "version_minor": 0
      },
      "text/plain": [
       "modules.json:   0%|          | 0.00/349 [00:00<?, ?B/s]"
      ]
     },
     "metadata": {},
     "output_type": "display_data"
    },
    {
     "data": {
      "application/vnd.jupyter.widget-view+json": {
       "model_id": "257184e445cd4872a53b879942b2e5a7",
       "version_major": 2,
       "version_minor": 0
      },
      "text/plain": [
       "config_sentence_transformers.json:   0%|          | 0.00/116 [00:00<?, ?B/s]"
      ]
     },
     "metadata": {},
     "output_type": "display_data"
    },
    {
     "data": {
      "application/vnd.jupyter.widget-view+json": {
       "model_id": "d5b7276b897c4dd98c5ccb6db06f4966",
       "version_major": 2,
       "version_minor": 0
      },
      "text/plain": [
       "README.md: 0.00B [00:00, ?B/s]"
      ]
     },
     "metadata": {},
     "output_type": "display_data"
    },
    {
     "data": {
      "application/vnd.jupyter.widget-view+json": {
       "model_id": "0bcb87821cb148babd8e10c65cfd3661",
       "version_major": 2,
       "version_minor": 0
      },
      "text/plain": [
       "sentence_bert_config.json:   0%|          | 0.00/53.0 [00:00<?, ?B/s]"
      ]
     },
     "metadata": {},
     "output_type": "display_data"
    },
    {
     "data": {
      "application/vnd.jupyter.widget-view+json": {
       "model_id": "0e2c59d972ed462999e75359727940e7",
       "version_major": 2,
       "version_minor": 0
      },
      "text/plain": [
       "config.json:   0%|          | 0.00/571 [00:00<?, ?B/s]"
      ]
     },
     "metadata": {},
     "output_type": "display_data"
    },
    {
     "data": {
      "application/vnd.jupyter.widget-view+json": {
       "model_id": "eefab03a1d8c4d10b47f45971a11e3bd",
       "version_major": 2,
       "version_minor": 0
      },
      "text/plain": [
       "model.safetensors:   0%|          | 0.00/438M [00:00<?, ?B/s]"
      ]
     },
     "metadata": {},
     "output_type": "display_data"
    },
    {
     "data": {
      "application/vnd.jupyter.widget-view+json": {
       "model_id": "ff1bdccd86a44a0b84de497155058c8c",
       "version_major": 2,
       "version_minor": 0
      },
      "text/plain": [
       "tokenizer_config.json:   0%|          | 0.00/363 [00:00<?, ?B/s]"
      ]
     },
     "metadata": {},
     "output_type": "display_data"
    },
    {
     "data": {
      "application/vnd.jupyter.widget-view+json": {
       "model_id": "e186ae51d1d54fb897c22505b51f6e30",
       "version_major": 2,
       "version_minor": 0
      },
      "text/plain": [
       "vocab.txt: 0.00B [00:00, ?B/s]"
      ]
     },
     "metadata": {},
     "output_type": "display_data"
    },
    {
     "data": {
      "application/vnd.jupyter.widget-view+json": {
       "model_id": "b7ced6144d664556b4ad7e1a6f10895a",
       "version_major": 2,
       "version_minor": 0
      },
      "text/plain": [
       "tokenizer.json: 0.00B [00:00, ?B/s]"
      ]
     },
     "metadata": {},
     "output_type": "display_data"
    },
    {
     "data": {
      "application/vnd.jupyter.widget-view+json": {
       "model_id": "11568ca0820a497ab7c89d96c8429a02",
       "version_major": 2,
       "version_minor": 0
      },
      "text/plain": [
       "special_tokens_map.json:   0%|          | 0.00/239 [00:00<?, ?B/s]"
      ]
     },
     "metadata": {},
     "output_type": "display_data"
    },
    {
     "data": {
      "application/vnd.jupyter.widget-view+json": {
       "model_id": "ad189c75f75e46fc8499a621de31eaf8",
       "version_major": 2,
       "version_minor": 0
      },
      "text/plain": [
       "config.json:   0%|          | 0.00/190 [00:00<?, ?B/s]"
      ]
     },
     "metadata": {},
     "output_type": "display_data"
    },
    {
     "name": "stdout",
     "output_type": "stream",
     "text": [
      "                                                 Entity1  \\\n",
      "201    ['research', 'and', 'market', 'e', '##pile', '...   \n",
      "7647   ['f', '##da', 'un', '##ve', '##ils', 'first', ...   \n",
      "10382  ['ah', '##f', 'blast', 'me', '##rc', '##k', 'a...   \n",
      "16489  ['bio', '##gen', 'id', '##ec', 'provide', 'bus...   \n",
      "25190  ['research', 'and', 'market', 'brain', 'tumor'...   \n",
      "\n",
      "                                                 Entity2  \\\n",
      "201    ['research', 'and', 'market', 'ne', '##ut', '#...   \n",
      "7647   ['f', '##da', 'un', '##ve', '##ils', 'first', ...   \n",
      "10382  ['ah', '##f', 'blast', 'me', '##rc', '##k', 'a...   \n",
      "16489  ['bio', '##gen', 'id', '##ec', 'provides', 'bu...   \n",
      "25190  ['research', 'and', 'market', 'brain', 'tumor'...   \n",
      "\n",
      "                                          Article_1_News  \\\n",
      "201    research and market epilepsy drug pipeline ana...   \n",
      "7647     fda unveils first phase transparency initiative   \n",
      "10382  ahf blast merck aid drug pricing during invest...   \n",
      "16489  biogen idec provide business update investor m...   \n",
      "25190  research and market brain tumor drug pipeline ...   \n",
      "\n",
      "                                          Article_2_News  Date_Difference  \\\n",
      "201    research and market neutropenia drug pipeline ...              141   \n",
      "7647     fda unveils first phase transparency initiative                1   \n",
      "10382  ahf blast merck aid drug pricing during invest...                1   \n",
      "16489  biogen idec provides business update investor ...              364   \n",
      "25190  research and market brain tumor pipeline asses...              365   \n",
      "\n",
      "       SBERT_Similarity  \n",
      "201            0.990740  \n",
      "7647           1.000000  \n",
      "10382          1.000000  \n",
      "16489          0.999422  \n",
      "25190          0.994266  \n"
     ]
    }
   ],
   "source": [
    "import pandas as pd\n",
    "import torch\n",
    "from itertools import combinations\n",
    "from sentence_transformers import SentenceTransformer, util\n",
    "\n",
    "model = SentenceTransformer('all-MPNet-base-v2')\n",
    "\n",
    "filtered_entities = subset[subset['IsEntity'] == 1][['Entities', 'date', 'textlemma']] #Here the filtration for 1s from the NER)\n",
    "\n",
    "def calculate_sbert_similarity(entities1, entities2):\n",
    "    if not entities1 or not entities2:\n",
    "        return 0  # Return 0 similarity if either entity list is empty\n",
    "\n",
    "    text1 = \" \".join(entities1)\n",
    "    text2 = \" \".join(entities2)\n",
    "\n",
    "    embedding1 = model.encode(text1, convert_to_tensor=True)\n",
    "    embedding2 = model.encode(text2, convert_to_tensor=True)\n",
    "\n",
    "    similarity=util.pytorch_cos_sim(embedding1, embedding2).item()\n",
    "    return similarity\n",
    "\n",
    "# Compare entity similarities between articles\n",
    "similarities = []\n",
    "pairs = list(combinations(filtered_entities.index, 2))\n",
    "\n",
    "for i, j in pairs:\n",
    "    entities1 = filtered_entities.loc[i, \"Entities\"]\n",
    "    entities2 = filtered_entities.loc[j, \"Entities\"]\n",
    "\n",
    "    if len(entities1) > 1 and len(entities2) > 1:\n",
    "        sim = calculate_sbert_similarity(entities1, entities2)\n",
    "        date_difference = abs((filtered_entities.loc[i, \"date\"] - filtered_entities.loc[j, \"date\"]).days)\n",
    "\n",
    "        similarities.append({\n",
    "            \"Entity1\": entities1,\n",
    "            \"Entity2\": entities2,\n",
    "            \"Article_1_News\": filtered_entities.loc[i, \"textlemma\"],\n",
    "            \"Article_2_News\": filtered_entities.loc[j, \"textlemma\"],\n",
    "            \"Date_Difference\": date_difference,\n",
    "            \"SBERT_Similarity\": sim})\n",
    "\n",
    "similarity_df = pd.DataFrame(similarities)\n",
    "high_similarity = similarity_df.query('SBERT_Similarity > 0.99')\n",
    "print(high_similarity.head())"
   ]
  },
  {
   "cell_type": "code",
   "execution_count": 7,
   "metadata": {},
   "outputs": [
    {
     "name": "stdout",
     "output_type": "stream",
     "text": [
      "                                       Article_1_News  \\\n",
      "7647  fda unveils first phase transparency initiative   \n",
      "\n",
      "                                       Article_2_News  \n",
      "7647  fda unveils first phase transparency initiative  \n"
     ]
    }
   ],
   "source": [
    "print(high_similarity.loc[high_similarity.index == 7647, [\"Article_1_News\", \"Article_2_News\"]])"
   ]
  },
  {
   "cell_type": "code",
   "execution_count": 8,
   "metadata": {},
   "outputs": [],
   "source": [
    "# Save the DataFrame to a pickle file\n",
    "similarity_df.to_pickle('similarity_results_with_all_mpnet_base_v2.pkl')"
   ]
  }
 ],
 "metadata": {
  "kernelspec": {
   "display_name": "Python 3 (ipykernel)",
   "language": "python",
   "name": "python3"
  },
  "language_info": {
   "codemirror_mode": {
    "name": "ipython",
    "version": 3
   },
   "file_extension": ".py",
   "mimetype": "text/x-python",
   "name": "python",
   "nbconvert_exporter": "python",
   "pygments_lexer": "ipython3",
   "version": "3.10.12"
  }
 },
 "nbformat": 4,
 "nbformat_minor": 2
}
